{
  "nbformat": 4,
  "nbformat_minor": 0,
  "metadata": {
    "colab": {
      "provenance": []
    },
    "kernelspec": {
      "name": "python3",
      "display_name": "Python 3"
    },
    "language_info": {
      "name": "python"
    }
  },
  "cells": [
    {
      "cell_type": "code",
      "execution_count": null,
      "metadata": {
        "id": "sKqijHqhHFv9"
      },
      "outputs": [],
      "source": [
        "import pandas as pd\n",
        "from scipy.stats import ttest_ind\n",
        "\n",
        "# Load data\n",
        "df = pd.read_csv('store_transactions.csv')\n",
        "\n",
        "# Separate trial and control\n",
        "trial = df[df['store_type'] == ['trial']['sales']\n",
        "control = df[df['store_type'] == ['control']['sales']\n",
        "\n",
        "# Perform t-test\n",
        "t_stat, p_val = ttest_ind(trial, control, equal_var=False)\n",
        "print(f\"T-statistic: {t_stat:.2f}, P-value: {p_val:.4f}\")\n",
        "\n",
        "if p_val < 0.05:\n",
        "    print(\"Statistically significant uplift detected in trial store.\")\n",
        "else:\n",
        "    print(\"No significant difference between trial and control stores.\")\n"
      ]
    }
  ]
}